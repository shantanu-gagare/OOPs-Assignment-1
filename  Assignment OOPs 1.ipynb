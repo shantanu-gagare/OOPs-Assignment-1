{
 "cells": [
  {
   "cell_type": "markdown",
   "id": "94b530b0",
   "metadata": {},
   "source": [
    "Q1. Explain Class and Object with respect to Object-Oriented Programming. Give a suitable example.\n",
    "Ans>> \n",
    "Class:-\n",
    "In python class is usec for classification of objects that are present in the language. Class provides a basic framework for that object or it is like a blueprint for that object or instance. Classes have different properties or characteristics associated with them, those are called as attributes of that class. example, for a class called student there can be several attributes like, student_name, roll_number, course_name, etc. \n",
    "there are functions associated with the class, which are called as methods. \n",
    "\n",
    "Object:- \n",
    "Everything in python is an object. Obejects are instances of perticular class or like an example of a class.\n",
    "We can set different attributes for different instances of a single class and methods will perform given tasks on these objects. \n"
   ]
  },
  {
   "cell_type": "code",
   "execution_count": 1,
   "id": "87543b15",
   "metadata": {},
   "outputs": [
    {
     "name": "stdout",
     "output_type": "stream",
     "text": [
      "My name is Shantanu, and this is my roll number21.\n"
     ]
    }
   ],
   "source": [
    "#This is an example for above explaination\n",
    "class Student:\n",
    "    name = \"\"   #these are attributes of a class, means they are characteristics of this class.\n",
    "    roll_number = 0\n",
    "    \n",
    "    def intro(self):    # this is a method associated with the class. \n",
    "        print(f\"My name is {self.name}, and this is my roll number{self.roll_number}.\")\n",
    "        \n",
    "Shantanu = Student()  # this is a example of instance of a class Student. \n",
    "Shantanu.name = \"Shantanu\"    # student name and roll number are the parameters given or characteristics of that perticular object\n",
    "Shantanu.roll_number = 21\n",
    "Shantanu.intro()\n",
    "        \n",
    "   "
   ]
  },
  {
   "cell_type": "markdown",
   "id": "84c23d35",
   "metadata": {},
   "source": [
    "Q2. Name the four pillars of OOPs.\n",
    "\n",
    "There are four pillars:\n",
    "\n",
    "i. Encapsulation\n",
    "ii. Inheritance\n",
    "iii. Polymorphism\n",
    "iv. Abstraction"
   ]
  },
  {
   "cell_type": "markdown",
   "id": "9db2c6ac",
   "metadata": {},
   "source": [
    "Q3. Explain why the __init__() function is used. Give a suitable example.\n",
    "ans>> \n",
    "The __init__ function used is a special function and called as a constructor function. This function is used to feed data to obejct of a class. If we dont use the __init__ function we need to set up attributes manually and sometime we can miss one or two. So to make it in memory we use __init__ function, this also reduces the code writting. \n",
    "exmaple. "
   ]
  },
  {
   "cell_type": "code",
   "execution_count": 2,
   "id": "cadc04a5",
   "metadata": {},
   "outputs": [
    {
     "name": "stdout",
     "output_type": "stream",
     "text": [
      "My name is shantanu, and this is my roll number21.\n"
     ]
    }
   ],
   "source": [
    "#For the above example of Student class, I will use now __init__ function. \n",
    "class Student:\n",
    "    \n",
    "    def __init__(self, name, roll_number):  # we are initializing our attributes in this  function. \n",
    "        \"\"\"This function just use to take the attributes or values for an object\"\"\"\n",
    "        self.name = name \n",
    "        self.roll_number = roll_number\n",
    "        \n",
    "    def intro(self):    # this is a method associated with the class. \n",
    "        print(f\"My name is {self.name}, and this is my roll number{self.roll_number}.\")\n",
    "        \n",
    "Shantanu = Student(\"shantanu\", 21)   # here I provided the attributes direct into the function. \n",
    " # no need to initialize seprately\n",
    "Shantanu.intro()"
   ]
  },
  {
   "cell_type": "markdown",
   "id": "157c27df",
   "metadata": {},
   "source": [
    "Q4. Why self is used in OOPs?\n",
    "Ans>> \n",
    "Self is just a keyword which connects the given attrubues to the class, we can use any keyword on the place of self word but we just have to use that consistently. To use variable inside the class we use self keyword. For using attributes in object we dont use self keyword. "
   ]
  },
  {
   "cell_type": "markdown",
   "id": "c1ac9ec7",
   "metadata": {},
   "source": [
    "Q5. What is inheritance? Give an example for each type of inheritance.\n",
    "Ans>> \n",
    "Inheritance is used for reusability of a code. Inheritance means taking from our parents, for example if we want to write a code, which is quite similar with previous one, or there are some common things present inside them then we can use inheritance. \n",
    "Basically in inheritance we use some part of previous class into our new class, for example we have a class called \"Animal\", so all animals will same some basic feature those are present in everyone of them. "
   ]
  },
  {
   "cell_type": "code",
   "execution_count": 4,
   "id": "31a72626",
   "metadata": {},
   "outputs": [
    {
     "name": "stdout",
     "output_type": "stream",
     "text": [
      "This is a Carnivorous animal, and Yellow-orange in colour.\n"
     ]
    }
   ],
   "source": [
    "class Animal:\n",
    "    def __init__(self, colour, nature):\n",
    "        self.colour = colour\n",
    "        self.nature = nature\n",
    "        \n",
    "    def explain(self):\n",
    "        print(f\"This is a {self.nature} animal, and {self.colour} in colour.\")\n",
    "        \n",
    "        \n",
    "class Tiger(Animal):  # here our tiger class taking his all arguments from a parent animal class. \n",
    "    pass\n",
    "\n",
    "Bengal_tiger = Tiger(\"Yellow-orange\", \"Carnivorous\")\n",
    "Bengal_tiger.explain()"
   ]
  },
  {
   "cell_type": "code",
   "execution_count": null,
   "id": "16a303a0",
   "metadata": {},
   "outputs": [],
   "source": []
  }
 ],
 "metadata": {
  "kernelspec": {
   "display_name": "Python 3 (ipykernel)",
   "language": "python",
   "name": "python3"
  },
  "language_info": {
   "codemirror_mode": {
    "name": "ipython",
    "version": 3
   },
   "file_extension": ".py",
   "mimetype": "text/x-python",
   "name": "python",
   "nbconvert_exporter": "python",
   "pygments_lexer": "ipython3",
   "version": "3.9.13"
  }
 },
 "nbformat": 4,
 "nbformat_minor": 5
}
